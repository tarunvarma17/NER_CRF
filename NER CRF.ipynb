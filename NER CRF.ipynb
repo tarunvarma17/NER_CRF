{
 "cells": [
  {
   "cell_type": "markdown",
   "id": "45c59aa5",
   "metadata": {},
   "source": [
    "### Importing required libraries"
   ]
  },
  {
   "cell_type": "code",
   "execution_count": 1,
   "id": "75c65f1c",
   "metadata": {},
   "outputs": [],
   "source": [
    "import torch\n",
    "import numpy as np\n",
    "from torch import nn\n",
    "import pandas as pd\n",
    "from timeit import default_timer as timer\n",
    "import matplotlib.pyplot as plt\n",
    "from collections import Counter\n",
    "import seaborn as sns"
   ]
  },
  {
   "cell_type": "markdown",
   "id": "f1cfd0a7",
   "metadata": {},
   "source": [
    "### Importing the data"
   ]
  },
  {
   "cell_type": "markdown",
   "id": "a995fced",
   "metadata": {},
   "source": [
    "For performing the task of named entity recognition, the data is coming from ConLL 2003"
   ]
  },
  {
   "cell_type": "code",
   "execution_count": 2,
   "id": "670f9ab0",
   "metadata": {},
   "outputs": [],
   "source": [
    "from datasets import load_dataset\n",
    "\n",
    "conllu_train= load_dataset(\"conll2003\", split=\"train\")"
   ]
  },
  {
   "cell_type": "markdown",
   "id": "5e7fc4ae",
   "metadata": {},
   "source": [
    "To make this easier to visulaize, lets store it in a pandas dataframe"
   ]
  },
  {
   "cell_type": "code",
   "execution_count": 3,
   "id": "de04a73b",
   "metadata": {},
   "outputs": [
    {
     "data": {
      "text/html": [
       "<div>\n",
       "<style scoped>\n",
       "    .dataframe tbody tr th:only-of-type {\n",
       "        vertical-align: middle;\n",
       "    }\n",
       "\n",
       "    .dataframe tbody tr th {\n",
       "        vertical-align: top;\n",
       "    }\n",
       "\n",
       "    .dataframe thead th {\n",
       "        text-align: right;\n",
       "    }\n",
       "</style>\n",
       "<table border=\"1\" class=\"dataframe\">\n",
       "  <thead>\n",
       "    <tr style=\"text-align: right;\">\n",
       "      <th></th>\n",
       "      <th>id</th>\n",
       "      <th>tokens</th>\n",
       "      <th>pos_tags</th>\n",
       "      <th>chunk_tags</th>\n",
       "      <th>ner_tags</th>\n",
       "    </tr>\n",
       "  </thead>\n",
       "  <tbody>\n",
       "    <tr>\n",
       "      <th>0</th>\n",
       "      <td>0</td>\n",
       "      <td>[EU, rejects, German, call, to, boycott, Briti...</td>\n",
       "      <td>[22, 42, 16, 21, 35, 37, 16, 21, 7]</td>\n",
       "      <td>[11, 21, 11, 12, 21, 22, 11, 12, 0]</td>\n",
       "      <td>[3, 0, 7, 0, 0, 0, 7, 0, 0]</td>\n",
       "    </tr>\n",
       "    <tr>\n",
       "      <th>1</th>\n",
       "      <td>1</td>\n",
       "      <td>[Peter, Blackburn]</td>\n",
       "      <td>[22, 22]</td>\n",
       "      <td>[11, 12]</td>\n",
       "      <td>[1, 2]</td>\n",
       "    </tr>\n",
       "    <tr>\n",
       "      <th>2</th>\n",
       "      <td>2</td>\n",
       "      <td>[BRUSSELS, 1996-08-22]</td>\n",
       "      <td>[22, 11]</td>\n",
       "      <td>[11, 12]</td>\n",
       "      <td>[5, 0]</td>\n",
       "    </tr>\n",
       "  </tbody>\n",
       "</table>\n",
       "</div>"
      ],
      "text/plain": [
       "  id                                             tokens  \\\n",
       "0  0  [EU, rejects, German, call, to, boycott, Briti...   \n",
       "1  1                                 [Peter, Blackburn]   \n",
       "2  2                             [BRUSSELS, 1996-08-22]   \n",
       "\n",
       "                              pos_tags                           chunk_tags  \\\n",
       "0  [22, 42, 16, 21, 35, 37, 16, 21, 7]  [11, 21, 11, 12, 21, 22, 11, 12, 0]   \n",
       "1                             [22, 22]                             [11, 12]   \n",
       "2                             [22, 11]                             [11, 12]   \n",
       "\n",
       "                      ner_tags  \n",
       "0  [3, 0, 7, 0, 0, 0, 7, 0, 0]  \n",
       "1                       [1, 2]  \n",
       "2                       [5, 0]  "
      ]
     },
     "execution_count": 3,
     "metadata": {},
     "output_type": "execute_result"
    }
   ],
   "source": [
    "df_train = conllu_train.to_pandas()\n",
    "df_train.head(3)"
   ]
  },
  {
   "cell_type": "code",
   "execution_count": 4,
   "id": "52f10ada",
   "metadata": {},
   "outputs": [
    {
     "data": {
      "text/plain": [
       "(14041, 5)"
      ]
     },
     "execution_count": 4,
     "metadata": {},
     "output_type": "execute_result"
    }
   ],
   "source": [
    "df_train.shape"
   ]
  },
  {
   "cell_type": "markdown",
   "id": "848fafaa",
   "metadata": {},
   "source": [
    "### Cleaning the data"
   ]
  },
  {
   "cell_type": "markdown",
   "id": "7a414f34",
   "metadata": {},
   "source": [
    "Now, for this particular task, I dont want to delve too deep into the differences Before and Inside tags. Instead, we will convert those to just one tag. So, on reducing the number of labels, we get:"
   ]
  },
  {
   "cell_type": "code",
   "execution_count": 5,
   "id": "cf190c79",
   "metadata": {},
   "outputs": [],
   "source": [
    "ner_tags = {'O': 0, 'B-PER': 1, 'I-PER': 2, 'B-ORG': 3, 'I-ORG': 4, 'B-LOC': 5, 'I-LOC': 6, 'B-MISC': 7, 'I-MISC': 8}\n",
    "\n",
    "new_mapping = {0: 'O', 1: 'PER', 2: 'PER', 3: 'ORG', 4: 'ORG', 5: 'LOC', 6: 'LOC', 7: 'MISC', 8: 'MISC'}\n",
    "df_train['ner_tags'] = df_train['ner_tags'].apply(lambda tags: [new_mapping[tag] for tag in tags])"
   ]
  },
  {
   "cell_type": "code",
   "execution_count": 6,
   "id": "16e52a0e",
   "metadata": {},
   "outputs": [],
   "source": [
    "labels = ['O', 'PER', 'ORG', 'LOC', 'MISC']"
   ]
  },
  {
   "cell_type": "markdown",
   "id": "26bb0549",
   "metadata": {},
   "source": [
    "Also, there are certain rows of this dataframe which contain just one token. As this does not benefit the training of a CRF, which is a linear chain, and looks for past context, I have decided to remove these cases from the training set"
   ]
  },
  {
   "cell_type": "code",
   "execution_count": 7,
   "id": "2c221216",
   "metadata": {},
   "outputs": [
    {
     "data": {
      "text/plain": [
       "(13862, 5)"
      ]
     },
     "execution_count": 7,
     "metadata": {},
     "output_type": "execute_result"
    }
   ],
   "source": [
    "df_train = df_train[df_train['tokens'].apply(len) >= 2]\n",
    "df_train.shape"
   ]
  },
  {
   "cell_type": "code",
   "execution_count": 8,
   "id": "6ea971b5",
   "metadata": {},
   "outputs": [
    {
     "data": {
      "text/html": [
       "<div>\n",
       "<style scoped>\n",
       "    .dataframe tbody tr th:only-of-type {\n",
       "        vertical-align: middle;\n",
       "    }\n",
       "\n",
       "    .dataframe tbody tr th {\n",
       "        vertical-align: top;\n",
       "    }\n",
       "\n",
       "    .dataframe thead th {\n",
       "        text-align: right;\n",
       "    }\n",
       "</style>\n",
       "<table border=\"1\" class=\"dataframe\">\n",
       "  <thead>\n",
       "    <tr style=\"text-align: right;\">\n",
       "      <th></th>\n",
       "      <th>id</th>\n",
       "      <th>tokens</th>\n",
       "      <th>pos_tags</th>\n",
       "      <th>chunk_tags</th>\n",
       "      <th>ner_tags</th>\n",
       "    </tr>\n",
       "  </thead>\n",
       "  <tbody>\n",
       "    <tr>\n",
       "      <th>0</th>\n",
       "      <td>0</td>\n",
       "      <td>[EU, rejects, German, call, to, boycott, Briti...</td>\n",
       "      <td>[22, 42, 16, 21, 35, 37, 16, 21, 7]</td>\n",
       "      <td>[11, 21, 11, 12, 21, 22, 11, 12, 0]</td>\n",
       "      <td>[ORG, O, MISC, O, O, O, MISC, O, O]</td>\n",
       "    </tr>\n",
       "    <tr>\n",
       "      <th>1</th>\n",
       "      <td>1</td>\n",
       "      <td>[Peter, Blackburn]</td>\n",
       "      <td>[22, 22]</td>\n",
       "      <td>[11, 12]</td>\n",
       "      <td>[PER, PER]</td>\n",
       "    </tr>\n",
       "    <tr>\n",
       "      <th>2</th>\n",
       "      <td>2</td>\n",
       "      <td>[BRUSSELS, 1996-08-22]</td>\n",
       "      <td>[22, 11]</td>\n",
       "      <td>[11, 12]</td>\n",
       "      <td>[LOC, O]</td>\n",
       "    </tr>\n",
       "  </tbody>\n",
       "</table>\n",
       "</div>"
      ],
      "text/plain": [
       "  id                                             tokens  \\\n",
       "0  0  [EU, rejects, German, call, to, boycott, Briti...   \n",
       "1  1                                 [Peter, Blackburn]   \n",
       "2  2                             [BRUSSELS, 1996-08-22]   \n",
       "\n",
       "                              pos_tags                           chunk_tags  \\\n",
       "0  [22, 42, 16, 21, 35, 37, 16, 21, 7]  [11, 21, 11, 12, 21, 22, 11, 12, 0]   \n",
       "1                             [22, 22]                             [11, 12]   \n",
       "2                             [22, 11]                             [11, 12]   \n",
       "\n",
       "                              ner_tags  \n",
       "0  [ORG, O, MISC, O, O, O, MISC, O, O]  \n",
       "1                           [PER, PER]  \n",
       "2                             [LOC, O]  "
      ]
     },
     "execution_count": 8,
     "metadata": {},
     "output_type": "execute_result"
    }
   ],
   "source": [
    "df_train.head(3)"
   ]
  },
  {
   "cell_type": "markdown",
   "id": "d6b0d34c",
   "metadata": {},
   "source": [
    "We can see from the above output that the data is more or less how we want it for now"
   ]
  },
  {
   "cell_type": "markdown",
   "id": "59b65279",
   "metadata": {},
   "source": [
    "### Function to featurize and get the numerator score"
   ]
  },
  {
   "cell_type": "markdown",
   "id": "6cd18b80",
   "metadata": {},
   "source": [
    "Given the CRF formula, let us write a function to calculate the numerator of this. As this comes in handy when performing he Viterbi algorithm, it is an important function to have. "
   ]
  },
  {
   "cell_type": "code",
   "execution_count": 9,
   "id": "b187e46b",
   "metadata": {},
   "outputs": [],
   "source": [
    "def num_score(tags, tokens, weights):\n",
    "    if len(tags) != len(tokens):\n",
    "        return \"Check size of input lists\"\n",
    "    word_features = []\n",
    "    sum_features = []\n",
    "    for i, token in enumerate(tokens):\n",
    "        #Create the 2 Emission features\n",
    "        word_features.append(int(token[0].isupper()))\n",
    "        word_features.append(int(any(char.isdigit() for char in token)))\n",
    "        #Checking the starting tag\n",
    "        for label in labels:\n",
    "            if i ==0 and tags[i] == label:\n",
    "                word_features.append(1)\n",
    "            else:\n",
    "                word_features.append(0)\n",
    "        #Transition features\n",
    "        for prev in labels:\n",
    "            for curr in labels:\n",
    "                if i == 0:\n",
    "                    word_features.append(0)\n",
    "                elif tags[i-1] == prev and tags[i] == curr:\n",
    "                    word_features.append(1)\n",
    "                else:\n",
    "                    word_features.append(0)    \n",
    "        # Now adding this across all the words in the sentence\n",
    "        if sum_features == []:\n",
    "            sum_features = word_features\n",
    "        else:\n",
    "            sum_features = [x + y for x, y in zip(word_features, sum_features)]\n",
    "        word_features = []\n",
    "    sent_tensor = torch.FloatTensor(sum_features)\n",
    "    dot_product = torch.dot(sent_tensor, weights)\n",
    "    return torch.exp(dot_product)"
   ]
  },
  {
   "cell_type": "markdown",
   "id": "25b90dea",
   "metadata": {},
   "source": [
    "Before we can test this out on some random examples, we must first define our weights tensor. "
   ]
  },
  {
   "cell_type": "markdown",
   "id": "171b685c",
   "metadata": {},
   "source": [
    "We have 2 Emission features, and 30 Transition features. So that means overall:"
   ]
  },
  {
   "cell_type": "code",
   "execution_count": 10,
   "id": "1195abc3",
   "metadata": {},
   "outputs": [],
   "source": [
    "num_features = 32"
   ]
  },
  {
   "cell_type": "code",
   "execution_count": 11,
   "id": "e2a39d8c",
   "metadata": {},
   "outputs": [
    {
     "name": "stdout",
     "output_type": "stream",
     "text": [
      "tensor([ 0.1677,  0.4354,  0.2489,  0.1268, -0.0569, -0.2764,  0.2271, -0.1528,\n",
      "         0.3983, -0.0735,  0.4706,  0.4580,  0.3593,  0.3376, -0.4687,  0.0077,\n",
      "        -0.4591,  0.1546, -0.1113,  0.3441,  0.0794,  0.1047, -0.1872, -0.0880,\n",
      "        -0.0575, -0.2717,  0.1433, -0.1312,  0.2767, -0.2133,  0.1053,  0.0806],\n",
      "       requires_grad=True)\n"
     ]
    }
   ],
   "source": [
    "weights = torch.rand(num_features) -.5 #Creates a weights vector of size 'num_features', ranging from -0.5 to 0.5\n",
    "weights.requires_grad = True\n",
    "print(weights)"
   ]
  },
  {
   "cell_type": "markdown",
   "id": "49ebf806",
   "metadata": {},
   "source": [
    "Now to test the num_score funtion"
   ]
  },
  {
   "cell_type": "code",
   "execution_count": 12,
   "id": "ad519f51",
   "metadata": {},
   "outputs": [
    {
     "data": {
      "text/plain": [
       "tensor(2.6817, grad_fn=<ExpBackward0>)"
      ]
     },
     "execution_count": 12,
     "metadata": {},
     "output_type": "execute_result"
    }
   ],
   "source": [
    "num_score([\"PER\", \"O\", \"O\", \"O\", \"LOC\"], [\"Laura\", \"was\", \"born\", \"in\", \"Slovenia\"], weights)"
   ]
  },
  {
   "cell_type": "code",
   "execution_count": 13,
   "id": "8498ed7b",
   "metadata": {},
   "outputs": [
    {
     "data": {
      "text/plain": [
       "tensor(1.6503, grad_fn=<ExpBackward0>)"
      ]
     },
     "execution_count": 13,
     "metadata": {},
     "output_type": "execute_result"
    }
   ],
   "source": [
    "num_score([\"PER\", \"O\", \"O\"], [\"Laura\", \"was\", \"born\"], weights)"
   ]
  },
  {
   "cell_type": "code",
   "execution_count": 14,
   "id": "e7577561",
   "metadata": {},
   "outputs": [
    {
     "data": {
      "text/plain": [
       "tensor(1.7438, grad_fn=<ExpBackward0>)"
      ]
     },
     "execution_count": 14,
     "metadata": {},
     "output_type": "execute_result"
    }
   ],
   "source": [
    "num_score([\"MISC\", \"MISC\", \"MISC\"], [\"Laura\", \"was\", \"born\"], weights)"
   ]
  },
  {
   "cell_type": "markdown",
   "id": "409c6812",
   "metadata": {},
   "source": [
    "As these weights are still untrained, the score is random. But the function is working as desired right now"
   ]
  },
  {
   "cell_type": "markdown",
   "id": "ed481e52",
   "metadata": {},
   "source": [
    "### Viterbi Algorithm"
   ]
  },
  {
   "cell_type": "markdown",
   "id": "2143b347",
   "metadata": {},
   "source": [
    "In the Eisenstein textbook, the suggested method to get the best label was to keep all the scores in a lookup matrix called v and use backpointers to retrace the top label.\n",
    "My aporach was a little different. I would store the top tags at each stage and keep iterating through the words until the end. This may have a slightly higher space complexity, as we need a few more temporary arrays to hold the information, but the time complexity (which is the big advantage of using Viterbi) is not compromised."
   ]
  },
  {
   "cell_type": "code",
   "execution_count": 15,
   "id": "dd075c7b",
   "metadata": {},
   "outputs": [],
   "source": [
    "def viterbi(tokens, weights):  \n",
    "    best_taglist_so_far = [[label] for label in labels]\n",
    "    best_scorelist_so_far = []\n",
    "    for token_idx in range(1, len(tokens)):\n",
    "        best_curr_taglist = []\n",
    "        best_curr_scorelist = []\n",
    "        for curr_label in labels:\n",
    "            best_curr_score = torch.tensor(-float('inf'))\n",
    "            best_curr_tag = []\n",
    "            for prev in best_taglist_so_far:\n",
    "                curr_taglist = prev.copy()\n",
    "                curr_taglist.append(curr_label)\n",
    "                curr_tokenlist = tokens[:token_idx+1]          \n",
    "                if num_score(curr_taglist, curr_tokenlist, weights) > best_curr_score:\n",
    "                    best_curr_score = num_score(curr_taglist, curr_tokenlist, weights)\n",
    "                    best_curr_tag = curr_taglist.copy()\n",
    "            best_curr_taglist.append(best_curr_tag)\n",
    "            best_curr_scorelist.append(best_curr_score)\n",
    "        best_taglist_so_far = best_curr_taglist.copy()\n",
    "        best_scorelist_so_far = best_curr_scorelist.copy()\n",
    "    highest_score = torch.tensor(-float('inf'))\n",
    "    for idx in range(len(best_scorelist_so_far)):\n",
    "        if best_scorelist_so_far[idx] > highest_score:\n",
    "            highest_score = best_scorelist_so_far[idx]\n",
    "            final_tag = best_taglist_so_far[idx]\n",
    "    return final_tag"
   ]
  },
  {
   "cell_type": "code",
   "execution_count": 16,
   "id": "d7bc336f",
   "metadata": {},
   "outputs": [
    {
     "name": "stdout",
     "output_type": "stream",
     "text": [
      "['O', 'PER', 'PER', 'O', 'LOC']\n",
      "Executed in 0.014128200011327863 seconds\n"
     ]
    }
   ],
   "source": [
    "start = timer()\n",
    "print(viterbi([\"Laura\", \"was\", \"born\", \"in\", \"Slovenia\"], weights))\n",
    "print(f\"Executed in {timer() - start} seconds\") "
   ]
  },
  {
   "cell_type": "markdown",
   "id": "82b17ef4",
   "metadata": {},
   "source": [
    "Again, as these are unlearned weights, the predicted tags are random. Lets try the same sentence with some other weights"
   ]
  },
  {
   "cell_type": "code",
   "execution_count": 17,
   "id": "caa1a7e8",
   "metadata": {},
   "outputs": [],
   "source": [
    "weights2 = torch.rand(num_features) -.5\n",
    "weights3 = torch.rand(num_features) -.5"
   ]
  },
  {
   "cell_type": "code",
   "execution_count": 18,
   "id": "b46e61f2",
   "metadata": {},
   "outputs": [
    {
     "name": "stdout",
     "output_type": "stream",
     "text": [
      "['MISC', 'ORG', 'O', 'ORG', 'O']\n",
      "Executed in 0.01268760021775961 seconds\n"
     ]
    }
   ],
   "source": [
    "start = timer()\n",
    "print(viterbi([\"Laura\", \"was\", \"born\", \"in\", \"Slovenia\"], weights2))\n",
    "print(f\"Executed in {timer() - start} seconds\") "
   ]
  },
  {
   "cell_type": "code",
   "execution_count": 19,
   "id": "5a87111e",
   "metadata": {},
   "outputs": [
    {
     "name": "stdout",
     "output_type": "stream",
     "text": [
      "['ORG', 'MISC', 'ORG', 'PER', 'MISC']\n",
      "Executed in 0.013858600053936243 seconds\n"
     ]
    }
   ],
   "source": [
    "start = timer()\n",
    "print(viterbi([\"Laura\", \"was\", \"born\", \"in\", \"Slovenia\"], weights3))\n",
    "print(f\"Executed in {timer() - start} seconds\") "
   ]
  },
  {
   "cell_type": "markdown",
   "id": "bb655a1b",
   "metadata": {},
   "source": [
    "So, from here we can see that depending on the weights the predicted tags change. This shows us that the viterbi algorithm code is working"
   ]
  },
  {
   "cell_type": "markdown",
   "id": "878b77e6",
   "metadata": {},
   "source": [
    "### Building a Baseline Model"
   ]
  },
  {
   "cell_type": "markdown",
   "id": "8d69acc8",
   "metadata": {},
   "source": [
    "The idea for a baseline model is to just predict the most consistently appearing tag for every word, and we can see how this scores. First, we must find which tag is the most frequently appearing. (Note: Code for below done with reference from stack overflow for seaborn syntax)"
   ]
  },
  {
   "cell_type": "code",
   "execution_count": 20,
   "id": "d799bf95",
   "metadata": {},
   "outputs": [
    {
     "data": {
      "image/png": "[encoded data removed]",
      "text/plain": [
       "<Figure size 600x400 with 1 Axes>"
      ]
     },
     "metadata": {},
     "output_type": "display_data"
    }
   ],
   "source": [
    "all_tags = [tag for sublist in df_train['ner_tags'] for tag in sublist]\n",
    "tag_counts = pd.Series(all_tags).value_counts()\n",
    "tag_counts_df = pd.DataFrame({'Tag': tag_counts.index, 'Count': tag_counts.values})\n",
    "\n",
    "plt.figure(figsize=(6, 4))\n",
    "sns.barplot(x='Tag', y='Count', data=tag_counts_df, palette='viridis')\n",
    "plt.xlabel('NER Tags')\n",
    "plt.ylabel('Count')\n",
    "plt.title('Count of NER Tags')\n",
    "plt.show()"
   ]
  },
  {
   "cell_type": "markdown",
   "id": "687d4052",
   "metadata": {},
   "source": [
    "So, it is unsurprisingly very clear that the 'Other' tag is the most common tag. So, let us build a baseline model to predict every word as 'O'"
   ]
  },
  {
   "cell_type": "code",
   "execution_count": 21,
   "id": "e4bde7a2",
   "metadata": {},
   "outputs": [],
   "source": [
    "def baseline_pred(tokens):\n",
    "    return ['O']*len(tokens)"
   ]
  },
  {
   "cell_type": "code",
   "execution_count": 22,
   "id": "79c428df",
   "metadata": {},
   "outputs": [
    {
     "data": {
      "text/plain": [
       "['O', 'O', 'O']"
      ]
     },
     "execution_count": 22,
     "metadata": {},
     "output_type": "execute_result"
    }
   ],
   "source": [
    "baseline_pred(['John', 'in', 'California'])"
   ]
  },
  {
   "cell_type": "markdown",
   "id": "1a19d68b",
   "metadata": {},
   "source": [
    "Now, let's test this out on some dev data, and see how much we score"
   ]
  },
  {
   "cell_type": "code",
   "execution_count": 23,
   "id": "16aa99dd",
   "metadata": {},
   "outputs": [],
   "source": [
    "conllu_val= load_dataset(\"conll2003\", split=\"validation\")\n",
    "df_val = conllu_val.to_pandas()\n",
    "df_val['ner_tags'] = df_val['ner_tags'].apply(lambda tags: [new_mapping[tag] for tag in tags])"
   ]
  },
  {
   "cell_type": "code",
   "execution_count": 24,
   "id": "5546429f",
   "metadata": {},
   "outputs": [],
   "source": [
    "def get_acc(true_labels, pred_labels):\n",
    "    if len(true_labels) != len(pred_labels):\n",
    "        return 0\n",
    "    count = 0\n",
    "    for i in range(len(true_labels)):\n",
    "        if true_labels[i] == pred_labels[i]:\n",
    "            count+=1\n",
    "    return count/len(true_labels)"
   ]
  },
  {
   "cell_type": "code",
   "execution_count": 25,
   "id": "88d01f8e",
   "metadata": {},
   "outputs": [
    {
     "data": {
      "text/plain": [
       "0.9090909090909091"
      ]
     },
     "execution_count": 25,
     "metadata": {},
     "output_type": "execute_result"
    }
   ],
   "source": [
    "get_acc(df_val.iloc[0]['ner_tags'], baseline_pred(df_val.iloc[0]['tokens']))"
   ]
  },
  {
   "cell_type": "code",
   "execution_count": 26,
   "id": "dd28adf7",
   "metadata": {},
   "outputs": [
    {
     "data": {
      "text/plain": [
       "['O', 'O', 'ORG', 'O', 'O', 'O', 'O', 'O', 'O', 'O', 'O']"
      ]
     },
     "execution_count": 26,
     "metadata": {},
     "output_type": "execute_result"
    }
   ],
   "source": [
    "df_val.iloc[0]['ner_tags']"
   ]
  },
  {
   "cell_type": "markdown",
   "id": "5660b2dd",
   "metadata": {},
   "source": [
    "We can see that 10 out of 11 of the above tags are 'Other' and so the accuracy for this sentence makes sense"
   ]
  },
  {
   "cell_type": "markdown",
   "id": "a5369a56",
   "metadata": {},
   "source": [
    "Now, one way to calculate overall accuracy is to go through the whole val and find each label-based accuracy score and find the mean across the dataset"
   ]
  },
  {
   "cell_type": "code",
   "execution_count": 27,
   "id": "f48235bb",
   "metadata": {},
   "outputs": [
    {
     "name": "stdout",
     "output_type": "stream",
     "text": [
      "Baseline accuracy is: 0.7714390158653259\n"
     ]
    }
   ],
   "source": [
    "acc_list = []\n",
    "for x in range(df_val.shape[0]):\n",
    "    acc_list.append(get_acc(df_val.iloc[x]['ner_tags'], baseline_pred(df_val.iloc[x]['tokens'])))\n",
    "acc_tensor = torch.tensor(acc_list)\n",
    "print(\"Baseline accuracy is:\", acc_tensor.mean().item())"
   ]
  },
  {
   "cell_type": "markdown",
   "id": "e4da3a6a",
   "metadata": {},
   "source": [
    "### Loss and training"
   ]
  },
  {
   "cell_type": "markdown",
   "id": "a9addfbb",
   "metadata": {},
   "source": [
    "This is the part that I found tricky, and could not complete to the end. According to the Eisenstein book, we need to calculate the negative log probability, given the numerator (say exp(s)) and the normalization function Z(x) as the denominator.\n",
    "\n",
    "I found it too complicated to calculate this loss, so I decided to define my own. This is far simpler in theory, where it just checks the label-wise accuracy of the prediction versus the actual tags.\n",
    "\n",
    "So if we predict [\"O\", \"PER\", \"LOC\"] and the actual tags are [\"PER\", \"LOC\", \"LOC\"], then we got only 1 label correct (the last one), and so the loss will be 2/3 or 0.667"
   ]
  },
  {
   "cell_type": "code",
   "execution_count": 28,
   "id": "1a6b71c5",
   "metadata": {},
   "outputs": [],
   "source": [
    "def get_loss(pred_tags, actual_tags):\n",
    "    correct_preds = 0\n",
    "    for i in range(len(pred_tags)):\n",
    "        if pred_tags[i] == actual_tags[i]:\n",
    "            correct_preds +=1\n",
    "    return torch.tensor(1 - (correct_preds/len(pred_tags)), requires_grad = True)"
   ]
  },
  {
   "cell_type": "markdown",
   "id": "d4dba6c9",
   "metadata": {},
   "source": [
    "However, this most probably will not work. The reason being, pytorch will not be able to calculate the gradient of the loss with respect to the weights vector, as after the viterbi, we are not using any direct score which is linked to the weight, but rather taking the output list and computing a loss score on that.\n",
    "\n",
    "So while I am aware the training wont work, let us build the model anyways "
   ]
  },
  {
   "cell_type": "code",
   "execution_count": 29,
   "id": "a4e023ef",
   "metadata": {},
   "outputs": [],
   "source": [
    "class Model(nn.Module):\n",
    "    def __init__(self, weights):\n",
    "        super(Model, self).__init__()\n",
    "        self.weights = nn.Parameter(weights)\n",
    "\n",
    "    def forward(self, tokens):\n",
    "        pred_tags = viterbi(tokens, self.weights)\n",
    "        return pred_tags"
   ]
  },
  {
   "cell_type": "code",
   "execution_count": 30,
   "id": "959a033e",
   "metadata": {},
   "outputs": [],
   "source": [
    "model = Model(weights)\n",
    "optimizer = torch.optim.SGD(model.parameters(), lr=0.01)"
   ]
  },
  {
   "cell_type": "code",
   "execution_count": 31,
   "id": "4dcb5e70",
   "metadata": {},
   "outputs": [
    {
     "name": "stdout",
     "output_type": "stream",
     "text": [
      "Loss at Epoch 0 = 0.6666666865348816\n",
      "Loss at Epoch 10 = 0.6666666865348816\n",
      "Loss at Epoch 20 = 0.6666666865348816\n",
      "Loss at Epoch 30 = 0.6666666865348816\n",
      "Loss at Epoch 40 = 0.6666666865348816\n",
      "Loss at Epoch 50 = 0.6666666865348816\n",
      "Loss at Epoch 60 = 0.6666666865348816\n",
      "Loss at Epoch 70 = 0.6666666865348816\n",
      "Loss at Epoch 80 = 0.6666666865348816\n",
      "Loss at Epoch 90 = 0.6666666865348816\n"
     ]
    }
   ],
   "source": [
    "for epoch in range(100):\n",
    "    #forward pass\n",
    "    pred_tags = model.forward(df_train.iloc[0]['tokens'])\n",
    "    l = get_loss((df_train.iloc[0]['ner_tags']), pred_tags)\n",
    "    \n",
    "    #backward pass\n",
    "    l.backward()\n",
    "    optimizer.step()\n",
    "    optimizer.zero_grad()\n",
    "    if epoch %10 == 0:\n",
    "        print(f'Loss at Epoch {epoch} = {l}')"
   ]
  }
 ],
 "metadata": {
  "kernelspec": {
   "display_name": "Python 3 (ipykernel)",
   "language": "python",
   "name": "python3"
  },
  "language_info": {
   "codemirror_mode": {
    "name": "ipython",
    "version": 3
   },
   "file_extension": ".py",
   "mimetype": "text/x-python",
   "name": "python",
   "nbconvert_exporter": "python",
   "pygments_lexer": "ipython3",
   "version": "3.10.6"
  }
 },
 "nbformat": 4,
 "nbformat_minor": 5
}
