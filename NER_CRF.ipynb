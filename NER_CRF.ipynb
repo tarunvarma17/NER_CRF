{
 "cells": [
  {
   "cell_type": "markdown",
   "id": "75a9b85a",
   "metadata": {},
   "source": [
    "### Importing required data"
   ]
  },
  {
   "cell_type": "code",
   "execution_count": 1,
   "id": "b81b4f67",
   "metadata": {},
   "outputs": [],
   "source": [
    "from datasets import load_dataset\n",
    "\n",
    "conllu_train= load_dataset(\"conll2003\", split=\"train\")"
   ]
  },
  {
   "cell_type": "markdown",
   "id": "4b5ee9ac",
   "metadata": {},
   "source": [
    "#### Storing this in a dataframe"
   ]
  },
  {
   "cell_type": "code",
   "execution_count": 2,
   "id": "27aec2e4",
   "metadata": {},
   "outputs": [],
   "source": [
    "import pandas as pd"
   ]
  },
  {
   "cell_type": "code",
   "execution_count": 3,
   "id": "41e8ab3c",
   "metadata": {},
   "outputs": [],
   "source": [
    "df_train = conllu_train.to_pandas()"
   ]
  },
  {
   "cell_type": "code",
   "execution_count": 4,
   "id": "9207ac3b",
   "metadata": {},
   "outputs": [
    {
     "data": {
      "text/html": [
       "<div>\n",
       "<style scoped>\n",
       "    .dataframe tbody tr th:only-of-type {\n",
       "        vertical-align: middle;\n",
       "    }\n",
       "\n",
       "    .dataframe tbody tr th {\n",
       "        vertical-align: top;\n",
       "    }\n",
       "\n",
       "    .dataframe thead th {\n",
       "        text-align: right;\n",
       "    }\n",
       "</style>\n",
       "<table border=\"1\" class=\"dataframe\">\n",
       "  <thead>\n",
       "    <tr style=\"text-align: right;\">\n",
       "      <th></th>\n",
       "      <th>id</th>\n",
       "      <th>tokens</th>\n",
       "      <th>pos_tags</th>\n",
       "      <th>chunk_tags</th>\n",
       "      <th>ner_tags</th>\n",
       "    </tr>\n",
       "  </thead>\n",
       "  <tbody>\n",
       "    <tr>\n",
       "      <th>0</th>\n",
       "      <td>0</td>\n",
       "      <td>[EU, rejects, German, call, to, boycott, Briti...</td>\n",
       "      <td>[22, 42, 16, 21, 35, 37, 16, 21, 7]</td>\n",
       "      <td>[11, 21, 11, 12, 21, 22, 11, 12, 0]</td>\n",
       "      <td>[3, 0, 7, 0, 0, 0, 7, 0, 0]</td>\n",
       "    </tr>\n",
       "    <tr>\n",
       "      <th>1</th>\n",
       "      <td>1</td>\n",
       "      <td>[Peter, Blackburn]</td>\n",
       "      <td>[22, 22]</td>\n",
       "      <td>[11, 12]</td>\n",
       "      <td>[1, 2]</td>\n",
       "    </tr>\n",
       "    <tr>\n",
       "      <th>2</th>\n",
       "      <td>2</td>\n",
       "      <td>[BRUSSELS, 1996-08-22]</td>\n",
       "      <td>[22, 11]</td>\n",
       "      <td>[11, 12]</td>\n",
       "      <td>[5, 0]</td>\n",
       "    </tr>\n",
       "    <tr>\n",
       "      <th>3</th>\n",
       "      <td>3</td>\n",
       "      <td>[The, European, Commission, said, on, Thursday...</td>\n",
       "      <td>[12, 22, 22, 38, 15, 22, 28, 38, 15, 16, 21, 3...</td>\n",
       "      <td>[11, 12, 12, 21, 13, 11, 11, 21, 13, 11, 12, 1...</td>\n",
       "      <td>[0, 3, 4, 0, 0, 0, 0, 0, 0, 7, 0, 0, 0, 0, 0, ...</td>\n",
       "    </tr>\n",
       "    <tr>\n",
       "      <th>4</th>\n",
       "      <td>4</td>\n",
       "      <td>[Germany, 's, representative, to, the, Europea...</td>\n",
       "      <td>[22, 27, 21, 35, 12, 22, 22, 27, 16, 21, 22, 2...</td>\n",
       "      <td>[11, 11, 12, 13, 11, 12, 12, 11, 12, 12, 12, 1...</td>\n",
       "      <td>[5, 0, 0, 0, 0, 3, 4, 0, 0, 0, 1, 2, 0, 0, 0, ...</td>\n",
       "    </tr>\n",
       "  </tbody>\n",
       "</table>\n",
       "</div>"
      ],
      "text/plain": [
       "  id                                             tokens  \\\n",
       "0  0  [EU, rejects, German, call, to, boycott, Briti...   \n",
       "1  1                                 [Peter, Blackburn]   \n",
       "2  2                             [BRUSSELS, 1996-08-22]   \n",
       "3  3  [The, European, Commission, said, on, Thursday...   \n",
       "4  4  [Germany, 's, representative, to, the, Europea...   \n",
       "\n",
       "                                            pos_tags  \\\n",
       "0                [22, 42, 16, 21, 35, 37, 16, 21, 7]   \n",
       "1                                           [22, 22]   \n",
       "2                                           [22, 11]   \n",
       "3  [12, 22, 22, 38, 15, 22, 28, 38, 15, 16, 21, 3...   \n",
       "4  [22, 27, 21, 35, 12, 22, 22, 27, 16, 21, 22, 2...   \n",
       "\n",
       "                                          chunk_tags  \\\n",
       "0                [11, 21, 11, 12, 21, 22, 11, 12, 0]   \n",
       "1                                           [11, 12]   \n",
       "2                                           [11, 12]   \n",
       "3  [11, 12, 12, 21, 13, 11, 11, 21, 13, 11, 12, 1...   \n",
       "4  [11, 11, 12, 13, 11, 12, 12, 11, 12, 12, 12, 1...   \n",
       "\n",
       "                                            ner_tags  \n",
       "0                        [3, 0, 7, 0, 0, 0, 7, 0, 0]  \n",
       "1                                             [1, 2]  \n",
       "2                                             [5, 0]  \n",
       "3  [0, 3, 4, 0, 0, 0, 0, 0, 0, 7, 0, 0, 0, 0, 0, ...  \n",
       "4  [5, 0, 0, 0, 0, 3, 4, 0, 0, 0, 1, 2, 0, 0, 0, ...  "
      ]
     },
     "execution_count": 4,
     "metadata": {},
     "output_type": "execute_result"
    }
   ],
   "source": [
    "df_train.head()"
   ]
  },
  {
   "cell_type": "markdown",
   "id": "6808fd2f",
   "metadata": {},
   "source": [
    "#### Reduce number of labels  \n",
    "(By removing Before, Inside tags)"
   ]
  },
  {
   "cell_type": "code",
   "execution_count": 5,
   "id": "c840476d",
   "metadata": {},
   "outputs": [],
   "source": [
    "ner_tags = {'O': 0, 'B-PER': 1, 'I-PER': 2, 'B-ORG': 3, 'I-ORG': 4, 'B-LOC': 5, 'I-LOC': 6, 'B-MISC': 7, 'I-MISC': 8}"
   ]
  },
  {
   "cell_type": "code",
   "execution_count": 6,
   "id": "9e0b7068",
   "metadata": {},
   "outputs": [],
   "source": [
    "new_mapping = {0: 'O', 1: 'PER', 2: 'PER', 3: 'ORG', 4: 'ORG', 5: 'LOC', 6: 'LOC', 7: 'MISC', 8: 'MISC'}\n",
    "\n",
    "df_train['ner_tags'] = df_train['ner_tags'].apply(lambda tags: [new_mapping[tag] for tag in tags])"
   ]
  },
  {
   "cell_type": "code",
   "execution_count": 7,
   "id": "e5503a9e",
   "metadata": {},
   "outputs": [
    {
     "data": {
      "text/html": [
       "<div>\n",
       "<style scoped>\n",
       "    .dataframe tbody tr th:only-of-type {\n",
       "        vertical-align: middle;\n",
       "    }\n",
       "\n",
       "    .dataframe tbody tr th {\n",
       "        vertical-align: top;\n",
       "    }\n",
       "\n",
       "    .dataframe thead th {\n",
       "        text-align: right;\n",
       "    }\n",
       "</style>\n",
       "<table border=\"1\" class=\"dataframe\">\n",
       "  <thead>\n",
       "    <tr style=\"text-align: right;\">\n",
       "      <th></th>\n",
       "      <th>id</th>\n",
       "      <th>tokens</th>\n",
       "      <th>pos_tags</th>\n",
       "      <th>chunk_tags</th>\n",
       "      <th>ner_tags</th>\n",
       "    </tr>\n",
       "  </thead>\n",
       "  <tbody>\n",
       "    <tr>\n",
       "      <th>0</th>\n",
       "      <td>0</td>\n",
       "      <td>[EU, rejects, German, call, to, boycott, Briti...</td>\n",
       "      <td>[22, 42, 16, 21, 35, 37, 16, 21, 7]</td>\n",
       "      <td>[11, 21, 11, 12, 21, 22, 11, 12, 0]</td>\n",
       "      <td>[ORG, O, MISC, O, O, O, MISC, O, O]</td>\n",
       "    </tr>\n",
       "    <tr>\n",
       "      <th>1</th>\n",
       "      <td>1</td>\n",
       "      <td>[Peter, Blackburn]</td>\n",
       "      <td>[22, 22]</td>\n",
       "      <td>[11, 12]</td>\n",
       "      <td>[PER, PER]</td>\n",
       "    </tr>\n",
       "    <tr>\n",
       "      <th>2</th>\n",
       "      <td>2</td>\n",
       "      <td>[BRUSSELS, 1996-08-22]</td>\n",
       "      <td>[22, 11]</td>\n",
       "      <td>[11, 12]</td>\n",
       "      <td>[LOC, O]</td>\n",
       "    </tr>\n",
       "    <tr>\n",
       "      <th>3</th>\n",
       "      <td>3</td>\n",
       "      <td>[The, European, Commission, said, on, Thursday...</td>\n",
       "      <td>[12, 22, 22, 38, 15, 22, 28, 38, 15, 16, 21, 3...</td>\n",
       "      <td>[11, 12, 12, 21, 13, 11, 11, 21, 13, 11, 12, 1...</td>\n",
       "      <td>[O, ORG, ORG, O, O, O, O, O, O, MISC, O, O, O,...</td>\n",
       "    </tr>\n",
       "    <tr>\n",
       "      <th>4</th>\n",
       "      <td>4</td>\n",
       "      <td>[Germany, 's, representative, to, the, Europea...</td>\n",
       "      <td>[22, 27, 21, 35, 12, 22, 22, 27, 16, 21, 22, 2...</td>\n",
       "      <td>[11, 11, 12, 13, 11, 12, 12, 11, 12, 12, 12, 1...</td>\n",
       "      <td>[LOC, O, O, O, O, ORG, ORG, O, O, O, PER, PER,...</td>\n",
       "    </tr>\n",
       "  </tbody>\n",
       "</table>\n",
       "</div>"
      ],
      "text/plain": [
       "  id                                             tokens  \\\n",
       "0  0  [EU, rejects, German, call, to, boycott, Briti...   \n",
       "1  1                                 [Peter, Blackburn]   \n",
       "2  2                             [BRUSSELS, 1996-08-22]   \n",
       "3  3  [The, European, Commission, said, on, Thursday...   \n",
       "4  4  [Germany, 's, representative, to, the, Europea...   \n",
       "\n",
       "                                            pos_tags  \\\n",
       "0                [22, 42, 16, 21, 35, 37, 16, 21, 7]   \n",
       "1                                           [22, 22]   \n",
       "2                                           [22, 11]   \n",
       "3  [12, 22, 22, 38, 15, 22, 28, 38, 15, 16, 21, 3...   \n",
       "4  [22, 27, 21, 35, 12, 22, 22, 27, 16, 21, 22, 2...   \n",
       "\n",
       "                                          chunk_tags  \\\n",
       "0                [11, 21, 11, 12, 21, 22, 11, 12, 0]   \n",
       "1                                           [11, 12]   \n",
       "2                                           [11, 12]   \n",
       "3  [11, 12, 12, 21, 13, 11, 11, 21, 13, 11, 12, 1...   \n",
       "4  [11, 11, 12, 13, 11, 12, 12, 11, 12, 12, 12, 1...   \n",
       "\n",
       "                                            ner_tags  \n",
       "0                [ORG, O, MISC, O, O, O, MISC, O, O]  \n",
       "1                                         [PER, PER]  \n",
       "2                                           [LOC, O]  \n",
       "3  [O, ORG, ORG, O, O, O, O, O, O, MISC, O, O, O,...  \n",
       "4  [LOC, O, O, O, O, ORG, ORG, O, O, O, PER, PER,...  "
      ]
     },
     "execution_count": 7,
     "metadata": {},
     "output_type": "execute_result"
    }
   ],
   "source": [
    "df_train.head()"
   ]
  },
  {
   "cell_type": "markdown",
   "id": "1085c498",
   "metadata": {},
   "source": [
    "### Creating Features"
   ]
  },
  {
   "cell_type": "code",
   "execution_count": 8,
   "id": "3b5c931b",
   "metadata": {},
   "outputs": [],
   "source": [
    "def is_capitalized(word):\n",
    "    return int(word[0].isupper())\n",
    "\n",
    "df_train['capitalized'] = df_train['tokens'].apply(lambda tokens: [is_capitalized(word) for word in tokens])"
   ]
  },
  {
   "cell_type": "markdown",
   "id": "c07b8717",
   "metadata": {},
   "source": [
    "Checks if a word is capitalized or not"
   ]
  },
  {
   "cell_type": "code",
   "execution_count": 9,
   "id": "ba2faa3c",
   "metadata": {},
   "outputs": [],
   "source": [
    "def is_NNP(tags):\n",
    "    return [1 if tag == 22 else 0 for tag in tags]\n",
    "\n",
    "df_train['is_NNP'] = df_train['pos_tags'].apply(is_NNP)"
   ]
  },
  {
   "cell_type": "markdown",
   "id": "c1ca0a20",
   "metadata": {},
   "source": [
    "Checks if the Part of speech tagging is NNP (Proper Noun)"
   ]
  },
  {
   "cell_type": "code",
   "execution_count": 10,
   "id": "2d5f26e0",
   "metadata": {},
   "outputs": [],
   "source": [
    "def next_token_possessive(tokens):\n",
    "    result = []\n",
    "    for i in range(len(tokens) - 1):\n",
    "        result.append(1 if tokens[i+1] == \"'s\" else 0)\n",
    "    result.append(0)\n",
    "    return result\n",
    "\n",
    "# Apply the function to the 'tokens' column\n",
    "df_train['is_possession'] = df_train['tokens'].apply(next_token_possessive)"
   ]
  },
  {
   "cell_type": "markdown",
   "id": "c3a13831",
   "metadata": {},
   "source": [
    "Checks if the next token is 's which indicates possesion"
   ]
  },
  {
   "cell_type": "code",
   "execution_count": 11,
   "id": "a7263481",
   "metadata": {},
   "outputs": [],
   "source": [
    "def has_digit(tokens):\n",
    "    binary_array = [1 if any(char.isdigit() for char in word) else 0 for word in tokens]\n",
    "    return binary_array\n",
    "\n",
    "# Apply the function to the 'tokens' column\n",
    "df_train['has_digit'] = df_train['tokens'].apply(has_digit)"
   ]
  },
  {
   "cell_type": "markdown",
   "id": "dce56f45",
   "metadata": {},
   "source": [
    "Checks if the token contains a digit"
   ]
  },
  {
   "cell_type": "markdown",
   "id": "33980e6a",
   "metadata": {},
   "source": [
    "### Transition Features"
   ]
  },
  {
   "cell_type": "markdown",
   "id": "669a5a9e",
   "metadata": {},
   "source": [
    "Below features do not look at x, but rather at y(i) and y(i-1)"
   ]
  },
  {
   "cell_type": "code",
   "execution_count": 12,
   "id": "3a96b6c5",
   "metadata": {},
   "outputs": [],
   "source": [
    "labels = ['O', 'PER', 'ORG', 'LOC', 'MISC']"
   ]
  },
  {
   "cell_type": "code",
   "execution_count": 13,
   "id": "221d35e2",
   "metadata": {},
   "outputs": [],
   "source": [
    "def starts_with(ner_tags, tag):\n",
    "    result = []\n",
    "    for i in range(len(ner_tags)):\n",
    "        if i == 0 and ner_tags[i] == tag:\n",
    "            result.append(1)\n",
    "        else:\n",
    "            result.append(0)\n",
    "    return result\n",
    "\n",
    "for label in labels:\n",
    "    df_train[f'starts_with_{label}'] = df_train['ner_tags'].apply(starts_with, tag = label)  "
   ]
  },
  {
   "cell_type": "markdown",
   "id": "fbad3c0b",
   "metadata": {},
   "source": [
    "Creates 5 new features to check if first token is of that particular label"
   ]
  },
  {
   "cell_type": "code",
   "execution_count": 14,
   "id": "18353fee",
   "metadata": {},
   "outputs": [],
   "source": [
    "def transition(ner_tags, curr, prev):\n",
    "    result = [0]\n",
    "    for i in range(1, len(ner_tags)):\n",
    "        if ner_tags[i] == curr and ner_tags[i-1] == prev:\n",
    "            result.append(1)\n",
    "        else:\n",
    "            result.append(0)\n",
    "    return result\n",
    "\n",
    "for previous in labels:\n",
    "    for current in labels:\n",
    "        df_train[f'{previous}_{current}'] = df_train['ner_tags'].apply(transition, curr = current, prev = previous)"
   ]
  },
  {
   "cell_type": "markdown",
   "id": "9675d3fa",
   "metadata": {},
   "source": [
    "Creates 5*5 = 25 new features to check current label and previous label dependencies"
   ]
  },
  {
   "cell_type": "code",
   "execution_count": 15,
   "id": "e364cbe4",
   "metadata": {},
   "outputs": [
    {
     "data": {
      "text/html": [
       "<div>\n",
       "<style scoped>\n",
       "    .dataframe tbody tr th:only-of-type {\n",
       "        vertical-align: middle;\n",
       "    }\n",
       "\n",
       "    .dataframe tbody tr th {\n",
       "        vertical-align: top;\n",
       "    }\n",
       "\n",
       "    .dataframe thead th {\n",
       "        text-align: right;\n",
       "    }\n",
       "</style>\n",
       "<table border=\"1\" class=\"dataframe\">\n",
       "  <thead>\n",
       "    <tr style=\"text-align: right;\">\n",
       "      <th></th>\n",
       "      <th>id</th>\n",
       "      <th>tokens</th>\n",
       "      <th>pos_tags</th>\n",
       "      <th>chunk_tags</th>\n",
       "      <th>ner_tags</th>\n",
       "      <th>capitalized</th>\n",
       "      <th>is_NNP</th>\n",
       "      <th>is_possession</th>\n",
       "      <th>has_digit</th>\n",
       "      <th>starts_with_O</th>\n",
       "      <th>...</th>\n",
       "      <th>LOC_O</th>\n",
       "      <th>LOC_PER</th>\n",
       "      <th>LOC_ORG</th>\n",
       "      <th>LOC_LOC</th>\n",
       "      <th>LOC_MISC</th>\n",
       "      <th>MISC_O</th>\n",
       "      <th>MISC_PER</th>\n",
       "      <th>MISC_ORG</th>\n",
       "      <th>MISC_LOC</th>\n",
       "      <th>MISC_MISC</th>\n",
       "    </tr>\n",
       "  </thead>\n",
       "  <tbody>\n",
       "    <tr>\n",
       "      <th>0</th>\n",
       "      <td>0</td>\n",
       "      <td>[EU, rejects, German, call, to, boycott, Briti...</td>\n",
       "      <td>[22, 42, 16, 21, 35, 37, 16, 21, 7]</td>\n",
       "      <td>[11, 21, 11, 12, 21, 22, 11, 12, 0]</td>\n",
       "      <td>[ORG, O, MISC, O, O, O, MISC, O, O]</td>\n",
       "      <td>[1, 0, 1, 0, 0, 0, 1, 0, 0]</td>\n",
       "      <td>[1, 0, 0, 0, 0, 0, 0, 0, 0]</td>\n",
       "      <td>[0, 0, 0, 0, 0, 0, 0, 0, 0]</td>\n",
       "      <td>[0, 0, 0, 0, 0, 0, 0, 0, 0]</td>\n",
       "      <td>[0, 0, 0, 0, 0, 0, 0, 0, 0]</td>\n",
       "      <td>...</td>\n",
       "      <td>[0, 0, 0, 0, 0, 0, 0, 0, 0]</td>\n",
       "      <td>[0, 0, 0, 0, 0, 0, 0, 0, 0]</td>\n",
       "      <td>[0, 0, 0, 0, 0, 0, 0, 0, 0]</td>\n",
       "      <td>[0, 0, 0, 0, 0, 0, 0, 0, 0]</td>\n",
       "      <td>[0, 0, 0, 0, 0, 0, 0, 0, 0]</td>\n",
       "      <td>[0, 0, 0, 1, 0, 0, 0, 1, 0]</td>\n",
       "      <td>[0, 0, 0, 0, 0, 0, 0, 0, 0]</td>\n",
       "      <td>[0, 0, 0, 0, 0, 0, 0, 0, 0]</td>\n",
       "      <td>[0, 0, 0, 0, 0, 0, 0, 0, 0]</td>\n",
       "      <td>[0, 0, 0, 0, 0, 0, 0, 0, 0]</td>\n",
       "    </tr>\n",
       "    <tr>\n",
       "      <th>1</th>\n",
       "      <td>1</td>\n",
       "      <td>[Peter, Blackburn]</td>\n",
       "      <td>[22, 22]</td>\n",
       "      <td>[11, 12]</td>\n",
       "      <td>[PER, PER]</td>\n",
       "      <td>[1, 1]</td>\n",
       "      <td>[1, 1]</td>\n",
       "      <td>[0, 0]</td>\n",
       "      <td>[0, 0]</td>\n",
       "      <td>[0, 0]</td>\n",
       "      <td>...</td>\n",
       "      <td>[0, 0]</td>\n",
       "      <td>[0, 0]</td>\n",
       "      <td>[0, 0]</td>\n",
       "      <td>[0, 0]</td>\n",
       "      <td>[0, 0]</td>\n",
       "      <td>[0, 0]</td>\n",
       "      <td>[0, 0]</td>\n",
       "      <td>[0, 0]</td>\n",
       "      <td>[0, 0]</td>\n",
       "      <td>[0, 0]</td>\n",
       "    </tr>\n",
       "    <tr>\n",
       "      <th>2</th>\n",
       "      <td>2</td>\n",
       "      <td>[BRUSSELS, 1996-08-22]</td>\n",
       "      <td>[22, 11]</td>\n",
       "      <td>[11, 12]</td>\n",
       "      <td>[LOC, O]</td>\n",
       "      <td>[1, 0]</td>\n",
       "      <td>[1, 0]</td>\n",
       "      <td>[0, 0]</td>\n",
       "      <td>[0, 1]</td>\n",
       "      <td>[0, 0]</td>\n",
       "      <td>...</td>\n",
       "      <td>[0, 1]</td>\n",
       "      <td>[0, 0]</td>\n",
       "      <td>[0, 0]</td>\n",
       "      <td>[0, 0]</td>\n",
       "      <td>[0, 0]</td>\n",
       "      <td>[0, 0]</td>\n",
       "      <td>[0, 0]</td>\n",
       "      <td>[0, 0]</td>\n",
       "      <td>[0, 0]</td>\n",
       "      <td>[0, 0]</td>\n",
       "    </tr>\n",
       "  </tbody>\n",
       "</table>\n",
       "<p>3 rows × 39 columns</p>\n",
       "</div>"
      ],
      "text/plain": [
       "  id                                             tokens  \\\n",
       "0  0  [EU, rejects, German, call, to, boycott, Briti...   \n",
       "1  1                                 [Peter, Blackburn]   \n",
       "2  2                             [BRUSSELS, 1996-08-22]   \n",
       "\n",
       "                              pos_tags                           chunk_tags  \\\n",
       "0  [22, 42, 16, 21, 35, 37, 16, 21, 7]  [11, 21, 11, 12, 21, 22, 11, 12, 0]   \n",
       "1                             [22, 22]                             [11, 12]   \n",
       "2                             [22, 11]                             [11, 12]   \n",
       "\n",
       "                              ner_tags                  capitalized  \\\n",
       "0  [ORG, O, MISC, O, O, O, MISC, O, O]  [1, 0, 1, 0, 0, 0, 1, 0, 0]   \n",
       "1                           [PER, PER]                       [1, 1]   \n",
       "2                             [LOC, O]                       [1, 0]   \n",
       "\n",
       "                        is_NNP                is_possession  \\\n",
       "0  [1, 0, 0, 0, 0, 0, 0, 0, 0]  [0, 0, 0, 0, 0, 0, 0, 0, 0]   \n",
       "1                       [1, 1]                       [0, 0]   \n",
       "2                       [1, 0]                       [0, 0]   \n",
       "\n",
       "                     has_digit                starts_with_O  ...  \\\n",
       "0  [0, 0, 0, 0, 0, 0, 0, 0, 0]  [0, 0, 0, 0, 0, 0, 0, 0, 0]  ...   \n",
       "1                       [0, 0]                       [0, 0]  ...   \n",
       "2                       [0, 1]                       [0, 0]  ...   \n",
       "\n",
       "                         LOC_O                      LOC_PER  \\\n",
       "0  [0, 0, 0, 0, 0, 0, 0, 0, 0]  [0, 0, 0, 0, 0, 0, 0, 0, 0]   \n",
       "1                       [0, 0]                       [0, 0]   \n",
       "2                       [0, 1]                       [0, 0]   \n",
       "\n",
       "                       LOC_ORG                      LOC_LOC  \\\n",
       "0  [0, 0, 0, 0, 0, 0, 0, 0, 0]  [0, 0, 0, 0, 0, 0, 0, 0, 0]   \n",
       "1                       [0, 0]                       [0, 0]   \n",
       "2                       [0, 0]                       [0, 0]   \n",
       "\n",
       "                      LOC_MISC                       MISC_O  \\\n",
       "0  [0, 0, 0, 0, 0, 0, 0, 0, 0]  [0, 0, 0, 1, 0, 0, 0, 1, 0]   \n",
       "1                       [0, 0]                       [0, 0]   \n",
       "2                       [0, 0]                       [0, 0]   \n",
       "\n",
       "                      MISC_PER                     MISC_ORG  \\\n",
       "0  [0, 0, 0, 0, 0, 0, 0, 0, 0]  [0, 0, 0, 0, 0, 0, 0, 0, 0]   \n",
       "1                       [0, 0]                       [0, 0]   \n",
       "2                       [0, 0]                       [0, 0]   \n",
       "\n",
       "                      MISC_LOC                    MISC_MISC  \n",
       "0  [0, 0, 0, 0, 0, 0, 0, 0, 0]  [0, 0, 0, 0, 0, 0, 0, 0, 0]  \n",
       "1                       [0, 0]                       [0, 0]  \n",
       "2                       [0, 0]                       [0, 0]  \n",
       "\n",
       "[3 rows x 39 columns]"
      ]
     },
     "execution_count": 15,
     "metadata": {},
     "output_type": "execute_result"
    }
   ],
   "source": [
    "df_train.head(3)"
   ]
  },
  {
   "cell_type": "markdown",
   "id": "c310290e",
   "metadata": {},
   "source": [
    "So, in total we now have 4 + 5 + 25  = 34 features. Now, if we were to extract the features for a certain word, let's say just for 'EU' aka the first token from the 0th index sentence. We should expect to get an array of length 34"
   ]
  },
  {
   "cell_type": "code",
   "execution_count": 22,
   "id": "3de342fe",
   "metadata": {},
   "outputs": [
    {
     "name": "stdout",
     "output_type": "stream",
     "text": [
      "[1, 1, 0, 0, 0, 0, 1, 0, 0, 0, 0, 0, 0, 0, 0, 0, 0, 0, 0, 0, 0, 0, 0, 0, 0, 0, 0, 0, 0, 0, 0, 0, 0, 0]\n"
     ]
    }
   ],
   "source": [
    "test_li = []\n",
    "for i in range(5, df_train.shape[1]):\n",
    "    test_li.append(df_train[df_train.columns[i]][0][0])\n",
    "print(test_li)"
   ]
  },
  {
   "cell_type": "markdown",
   "id": "43efe34b",
   "metadata": {},
   "source": [
    "So, this is the value of the word 'EU' when passed through all 34 features. To confirm, let us check the lenght of this array."
   ]
  },
  {
   "cell_type": "code",
   "execution_count": 23,
   "id": "506bbe25",
   "metadata": {},
   "outputs": [
    {
     "data": {
      "text/plain": [
       "34"
      ]
     },
     "execution_count": 23,
     "metadata": {},
     "output_type": "execute_result"
    }
   ],
   "source": [
    "len(test_li)"
   ]
  },
  {
   "cell_type": "markdown",
   "id": "86103958",
   "metadata": {},
   "source": [
    "When building the model, these can easily be converted into tensors for each token"
   ]
  },
  {
   "cell_type": "markdown",
   "id": "3d944b74",
   "metadata": {},
   "source": [
    "So, each word/token in a sequence will have a 34 length vector and our weights vector will be of same size. We compute the dot product of this weight vector with each word vector in the sentence and sum it up."
   ]
  },
  {
   "cell_type": "code",
   "execution_count": null,
   "id": "4edcdc1f",
   "metadata": {},
   "outputs": [],
   "source": []
  }
 ],
 "metadata": {
  "kernelspec": {
   "display_name": "Python 3 (ipykernel)",
   "language": "python",
   "name": "python3"
  },
  "language_info": {
   "codemirror_mode": {
    "name": "ipython",
    "version": 3
   },
   "file_extension": ".py",
   "mimetype": "text/x-python",
   "name": "python",
   "nbconvert_exporter": "python",
   "pygments_lexer": "ipython3",
   "version": "3.10.6"
  }
 },
 "nbformat": 4,
 "nbformat_minor": 5
}
